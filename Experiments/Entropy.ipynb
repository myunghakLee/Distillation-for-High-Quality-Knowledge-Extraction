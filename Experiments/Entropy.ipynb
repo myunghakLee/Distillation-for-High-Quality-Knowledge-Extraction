{
 "cells": [
  {
   "cell_type": "markdown",
   "id": "67d38eb1",
   "metadata": {},
   "source": [
    "# Entropy\n",
    "\n",
    "The Oracle teacher model, which utilizes refined data, outputs reinforced task-specific knowledge – the confidence score for the target class is increased, while the confidence score for non-target classes is decreased. As shown in the below the figure, the entropy, or the expected amount of information, also decreases. However, as demonstrated in our experiments, the knowledge preserves representations among similar classes (refer to t-SNE, silhouette score results). Therefore, we can mitigate the capacity gap issue because task-specific knowledge is extracted regardless of the model's capacity."
   ]
  },
  {
   "cell_type": "code",
   "execution_count": 2,
   "id": "c20352f3",
   "metadata": {
    "ExecuteTime": {
     "end_time": "2023-09-04T00:28:56.117034Z",
     "start_time": "2023-09-04T00:28:54.714946Z"
    }
   },
   "outputs": [],
   "source": [
    "import torch.nn as nn\n",
    "import torch\n",
    "import sys\n",
    "import os\n",
    "sys.path.append(os.path.abspath('../'))\n",
    "\n",
    "import dataset\n",
    "import models\n",
    "import utils"
   ]
  },
  {
   "cell_type": "code",
   "execution_count": null,
   "id": "acad07c2",
   "metadata": {
    "ExecuteTime": {
     "end_time": "2023-09-04T00:28:56.121647Z",
     "start_time": "2023-09-04T00:28:56.119006Z"
    }
   },
   "outputs": [],
   "source": [
    "# Calculate the entropy of the output of the model\n",
    "def get_entropy(vector):\n",
    "    normalized_vector = (vector + 1e-8) / torch.sum(vector)\n",
    "    torch.log2(normalized_vector)\n",
    "    entropy_value = -torch.sum(normalized_vector * torch.log2(normalized_vector))\n",
    "    return entropy_value"
   ]
  },
  {
   "cell_type": "code",
   "execution_count": 28,
   "id": "caa1a7fe",
   "metadata": {
    "ExecuteTime": {
     "end_time": "2023-09-04T00:33:47.472113Z",
     "start_time": "2023-09-04T00:33:18.525343Z"
    },
    "scrolled": true
   },
   "outputs": [
    {
     "name": "stdout",
     "output_type": "stream",
     "text": [
      "Files already downloaded and verified\n",
      "Files already downloaded and verified\n",
      "0.0 : 5.532861194165349\n",
      "0.2 : 5.529578017930985\n",
      "0.4 : 5.52488672971487\n",
      "0.6 : 5.52069652657032\n",
      "0.8 : 5.5141953724908825\n",
      "1.0 : 5.5103131531012055\n",
      "1.2 : 5.503875810074806\n",
      "1.4 : 5.498469164617657\n",
      "1.6 : 5.493542937451005\n",
      "1.8 : 5.486933969740868\n",
      "2.0 : 5.487348489611149\n",
      "2.2 : 5.479310693961382\n",
      "2.4 : 5.475101574424505\n",
      "2.6 : 5.471420794582367\n",
      "2.8 : 5.464708160401583\n",
      "3.0 : 5.4662763875889775\n",
      "3.2 : 5.458978559362889\n",
      "3.4 : 5.455521011030674\n",
      "3.6 : 5.456232696975469\n",
      "3.8 : 5.45038414121151\n",
      "4.0 : 5.446225071183443\n",
      "4.2 : 5.443354296703339\n",
      "4.4 : 5.440575729837418\n",
      "4.6 : 5.439467132258415\n",
      "4.8 : 5.436648594403267\n",
      "5.0 : 5.433915465888977\n",
      "5.2 : 5.4329497364687915\n",
      "5.4 : 5.426796816284656\n",
      "5.6 : 5.424093397891522\n",
      "5.8 : 5.423710737195015\n",
      "6.0 : 5.4189412765455245\n",
      "6.2 : 5.417345014095306\n",
      "6.4 : 5.414403568754196\n",
      "6.6 : 5.416410812676549\n",
      "6.8 : 5.412505629894733\n",
      "7.0 : 5.409144932650924\n",
      "7.2 : 5.407239236242771\n",
      "7.4 : 5.40674665012002\n",
      "7.6 : 5.404223540385962\n",
      "7.8 : 5.402569163560868\n",
      "8.0 : 5.399069371343851\n",
      "8.2 : 5.398653899348974\n",
      "8.4 : 5.394762117109298\n",
      "8.6 : 5.394934373047948\n",
      "8.8 : 5.391309762268066\n",
      "9.0 : 5.392672515802979\n",
      "9.2 : 5.389213900499344\n",
      "9.4 : 5.388241148064137\n",
      "9.6 : 5.3849779983723165\n",
      "9.8 : 5.3838615438020225\n",
      "10.0 : 5.387285719212294\n"
     ]
    }
   ],
   "source": [
    "device = torch.device('cuda')\n",
    "batch_size = 64\n",
    "\n",
    "# Initialize and load the ResNet32 model with 100 classes.\n",
    "model = models.resnet32(num_classes=100)\n",
    "model.load_state_dict(torch.load((f\"../teacher_models/CIFAR100/resnet32/model.pth\")))\n",
    "\n",
    "model = model.to(device)\n",
    "model.eval()\n",
    "\n",
    "train_loader, test_loader, _, _ = dataset.create_loader(batch_size, \"./data/\", \"CIFAR100\")\n",
    "datasize =  train_loader.dataset.__len__()\n",
    "\n",
    "softmax = nn.Softmax(dim=1)\n",
    "\n",
    "# Initialize a list to store entropy values for different gamma values.\n",
    "gamma_entropy = []\n",
    "\n",
    "\n",
    "# Iterate over a range of gamma values from 0 to 10 in steps of 0.1.\n",
    "for lrp_gamma in range(0, 51):\n",
    "    lrp_gamma /= 5\n",
    "\n",
    "    # Initialize the refiner with the current gamma value.\n",
    "    refiner = utils.Refiner(teacher=model, lrp_gamma=lrp_gamma)\n",
    "\n",
    "    correct = 0\n",
    "    entropy = 0\n",
    "\n",
    "    # ECE is computed using training data, as the teacher model utilizes this data for training the student model\n",
    "    for img, label in train_loader:\n",
    "        img = img.to(device)\n",
    "        label = label.to(device)\n",
    "\n",
    "        # Get refined image(reinforced_img)\n",
    "        refined_img = refiner.get_refined_image(img, label)\n",
    "\n",
    "        with torch.no_grad():\n",
    "            output = softmax(model(refined_img) / 4)\n",
    "            pred = output.argmax(dim=1, keepdim=True)\n",
    "            correct += pred.eq(label.view_as(pred)).sum().item()\n",
    "            entropy += sum([get_entropy(vector).item() for vector in output])  # Compute and summation entropy\n",
    "\n",
    "    print(lrp_gamma, \":\", entropy / datasize)\n",
    "    gamma_entropy.append(entropy / datasize)"
   ]
  },
  {
   "cell_type": "code",
   "execution_count": 29,
   "id": "9d22c3e6",
   "metadata": {},
   "outputs": [
    {
     "data": {
      "image/png": "[encoded data removed]",
      "text/plain": [
       "<Figure size 432x288 with 1 Axes>"
      ]
     },
     "metadata": {
      "needs_background": "light"
     },
     "output_type": "display_data"
    }
   ],
   "source": [
    "from matplotlib import pyplot as plt\n",
    "\n",
    "plt.plot([i / 5 for i in range(0, 51)], gamma_entropy, label=\"Entropy\")\n",
    "plt.xlabel(\"Gamma\")\n",
    "plt.ylabel(\"Entropy\")\n",
    "plt.legend()\n",
    "plt.show()"
   ]
  }
 ],
 "metadata": {
  "kernelspec": {
   "display_name": "Python 3 (ipykernel)",
   "language": "python",
   "name": "python3"
  },
  "language_info": {
   "codemirror_mode": {
    "name": "ipython",
    "version": 3
   },
   "file_extension": ".py",
   "mimetype": "text/x-python",
   "name": "python",
   "nbconvert_exporter": "python",
   "pygments_lexer": "ipython3",
   "version": "3.9.12"
  },
  "toc": {
   "base_numbering": 1,
   "nav_menu": {},
   "number_sections": false,
   "sideBar": true,
   "skip_h1_title": false,
   "title_cell": "Table of Contents",
   "title_sidebar": "Contents",
   "toc_cell": false,
   "toc_position": {},
   "toc_section_display": true,
   "toc_window_display": false
  },
  "varInspector": {
   "cols": {
    "lenName": 16,
    "lenType": 16,
    "lenVar": 40
   },
   "kernels_config": {
    "python": {
     "delete_cmd_postfix": "",
     "delete_cmd_prefix": "del ",
     "library": "var_list.py",
     "varRefreshCmd": "print(var_dic_list())"
    },
    "r": {
     "delete_cmd_postfix": ") ",
     "delete_cmd_prefix": "rm(",
     "library": "var_list.r",
     "varRefreshCmd": "cat(var_dic_list()) "
    }
   },
   "types_to_exclude": [
    "module",
    "function",
    "builtin_function_or_method",
    "instance",
    "_Feature"
   ],
   "window_display": false
  }
 },
 "nbformat": 4,
 "nbformat_minor": 5
}
